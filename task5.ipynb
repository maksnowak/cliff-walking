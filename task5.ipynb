{
 "cells": [
  {
   "cell_type": "markdown",
   "metadata": {},
   "source": [
    "# WSI - Ćwiczenie 5\n",
    "\n",
    "*Autor: Maksymilian Nowak*"
   ]
  },
  {
   "cell_type": "markdown",
   "metadata": {},
   "source": [
    "### Cel ćwiczenia\n",
    "\n",
    "Celem ćwiczenia jest zaimplementowanie algorytmu Q-learning z $\\varepsilon$-zachłanną strategią losowania akcji. Algorytm należy zastosować do wytrenowania agenta rozwiązującego problemu *Cliff Walking* dostępnego w pakiecie `gymnasium`.\n",
    "\n",
    "Należy zbadać wpływ współczynnika dyskontowania ($\\lambda$) i szybkości uczenia ($\\beta$) na działanie algorytmu."
   ]
  }
 ],
 "metadata": {
  "language_info": {
   "name": "python"
  }
 },
 "nbformat": 4,
 "nbformat_minor": 2
}
